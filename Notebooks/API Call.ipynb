{
 "cells": [
  {
   "cell_type": "code",
   "execution_count": 7,
   "id": "72cffbaa",
   "metadata": {},
   "outputs": [],
   "source": [
    "import requests\n",
    "import json\n",
    "from IPython.display import Markdown"
   ]
  },
  {
   "cell_type": "code",
   "execution_count": 17,
   "id": "316ff92e",
   "metadata": {},
   "outputs": [],
   "source": [
    "import requests\n",
    "\n",
    "# API Url\n",
    "url = \"http://localhost:5000/process\"  \n",
    "data = {\n",
    "    'text' : None,\n",
    "    \"url\": \"https://x.com/nickfloats/status/1759925771273912546?s=20\"\n",
    "}\n",
    "\n",
    "# Calling the api\n",
    "creation_response = requests.post(url, data=json.dumps(data), headers={'Content-Type': 'application/json'})"
   ]
  },
  {
   "cell_type": "code",
   "execution_count": 16,
   "id": "2754f67e",
   "metadata": {},
   "outputs": [
    {
     "data": {
      "text/markdown": [
       "The first human implanted with @neuralink is able to control a mouse using only their thoughts. Imagine them in Midjourney, and how empowering that must be.\n",
       "\n",
       "What do you think the future holds for this technology?\n",
       "\n",
       "#neuralink #technology #future #innovation #science"
      ],
      "text/plain": [
       "<IPython.core.display.Markdown object>"
      ]
     },
     "metadata": {},
     "output_type": "display_data"
    }
   ],
   "source": [
    "display(Markdown(creation_response.json()['Caption']))"
   ]
  },
  {
   "cell_type": "code",
   "execution_count": 18,
   "id": "bdd2341f",
   "metadata": {},
   "outputs": [],
   "source": [
    "import requests\n",
    "\n",
    "download_response = requests.get(\"http://localhost:5000/download\", params={\"project_id\": creation_response.json()['Project ID']})\n",
    "\n",
    "# The content of the response is the file data.\n",
    "with open('AI Generated Reel.mp4', 'wb') as f:\n",
    "    f.write(download_response.content)\n"
   ]
  },
  {
   "cell_type": "code",
   "execution_count": null,
   "id": "f801066a",
   "metadata": {},
   "outputs": [],
   "source": []
  }
 ],
 "metadata": {
  "kernelspec": {
   "display_name": "Python 3 (ipykernel)",
   "language": "python",
   "name": "python3"
  },
  "language_info": {
   "codemirror_mode": {
    "name": "ipython",
    "version": 3
   },
   "file_extension": ".py",
   "mimetype": "text/x-python",
   "name": "python",
   "nbconvert_exporter": "python",
   "pygments_lexer": "ipython3",
   "version": "3.11.5"
  }
 },
 "nbformat": 4,
 "nbformat_minor": 5
}
