{
 "cells": [
  {
   "cell_type": "code",
   "execution_count": 6,
   "id": "72cffbaa",
   "metadata": {},
   "outputs": [],
   "source": [
    "import requests\n",
    "import json\n",
    "from IPython.display import Markdown"
   ]
  },
  {
   "cell_type": "code",
   "execution_count": 7,
   "id": "316ff92e",
   "metadata": {},
   "outputs": [],
   "source": [
    "import requests\n",
    "\n",
    "# API Url\n",
    "url = \"http://localhost:5000/process\"  \n",
    "data = {\n",
    "    'text' : None,\n",
    "    \"url\": \"https://x.com/tsarnick/status/1761193074439737634?s=20\"\n",
    "}\n",
    "\n",
    "# Calling the api\n",
    "creation_response = requests.post(url, data=json.dumps(data), headers={'Content-Type': 'application/json'})"
   ]
  },
  {
   "cell_type": "code",
   "execution_count": 11,
   "id": "bdd2341f",
   "metadata": {},
   "outputs": [],
   "source": [
    "import requests\n",
    "\n",
    "download_response = requests.get(\"http://localhost:5000/download\", params={\"project_id\": creation_response.json()['Project ID']})\n",
    "\n",
    "# The content of the response is the file data.\n",
    "with open('../Downloads/AI Generated Reel.mp4', 'wb') as f:\n",
    "    f.write(download_response.content)\n"
   ]
  },
  {
   "cell_type": "code",
   "execution_count": null,
   "id": "9d4304fb",
   "metadata": {},
   "outputs": [],
   "source": []
  }
 ],
 "metadata": {
  "kernelspec": {
   "display_name": "Python [conda env:bardotics]",
   "language": "python",
   "name": "conda-env-bardotics-py"
  },
  "language_info": {
   "codemirror_mode": {
    "name": "ipython",
    "version": 3
   },
   "file_extension": ".py",
   "mimetype": "text/x-python",
   "name": "python",
   "nbconvert_exporter": "python",
   "pygments_lexer": "ipython3",
   "version": "3.10.0"
  }
 },
 "nbformat": 4,
 "nbformat_minor": 5
}
