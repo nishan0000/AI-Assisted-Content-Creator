{
 "cells": [
  {
   "cell_type": "code",
   "execution_count": 6,
   "id": "72cffbaa",
   "metadata": {},
   "outputs": [],
   "source": [
    "import requests\n",
    "import json\n",
    "from IPython.display import Markdown"
   ]
  },
  {
   "cell_type": "code",
   "execution_count": 7,
   "id": "316ff92e",
   "metadata": {},
   "outputs": [],
   "source": [
    "import requests\n",
    "\n",
    "# API Url\n",
    "url = \"http://localhost:5000/process\"  \n",
    "data = {\n",
    "    'text' : None,\n",
    "    \"url\": \"https://x.com/tsarnick/status/1761193074439737634?s=20\"\n",
    "}\n",
    "\n",
    "# Calling the api\n",
    "creation_response = requests.post(url, data=json.dumps(data), headers={'Content-Type': 'application/json'})"
   ]
  },
  {
   "cell_type": "code",
   "execution_count": 8,
   "id": "2754f67e",
   "metadata": {
    "scrolled": true
   },
   "outputs": [
    {
     "data": {
      "text/markdown": [
       "Intel CEO Pat Gelsinger asked Sam Altman, the CEO of OpenAI, what he plans to do with the $7 trillion that OpenAI has been valued at. Altman responded that he wants to use the money to develop artificial general intelligence (AGI), which is a type of AI that would be as intelligent as a human being.\n",
       "\n",
       "Altman believes that AGI could solve some of the world's biggest problems, such as climate change and disease. However, he also acknowledges that AGI could be dangerous if it is not developed responsibly.\n",
       "\n",
       "What do you think? Is AGI a good thing or a bad thing?\n",
       "\n",
       "Credits to @tsarnick\n",
       "\n",
       "Follow @bardotics for more such content!\n",
       "\n",
       "#AGI #OpenAI #ArtificialIntelligence #Technology #Future"
      ],
      "text/plain": [
       "<IPython.core.display.Markdown object>"
      ]
     },
     "metadata": {},
     "output_type": "display_data"
    }
   ],
   "source": [
    "display(Markdown(creation_response.json()['Caption']))"
   ]
  },
  {
   "cell_type": "code",
   "execution_count": 9,
   "id": "bdd2341f",
   "metadata": {},
   "outputs": [],
   "source": [
    "import requests\n",
    "\n",
    "download_response = requests.get(\"http://localhost:5000/download\", params={\"project_id\": creation_response.json()['Project ID']})\n",
    "\n",
    "# The content of the response is the file data.\n",
    "with open('../Downloads/AI Generated Reel.mp4', 'wb') as f:\n",
    "    f.write(download_response.content)\n"
   ]
  },
  {
   "cell_type": "code",
   "execution_count": null,
   "id": "1918fa50",
   "metadata": {},
   "outputs": [],
   "source": []
  },
  {
   "cell_type": "code",
   "execution_count": null,
   "id": "eaf79d70",
   "metadata": {},
   "outputs": [],
   "source": []
  }
 ],
 "metadata": {
  "kernelspec": {
   "display_name": "Python 3 (ipykernel)",
   "language": "python",
   "name": "python3"
  },
  "language_info": {
   "codemirror_mode": {
    "name": "ipython",
    "version": 3
   },
   "file_extension": ".py",
   "mimetype": "text/x-python",
   "name": "python",
   "nbconvert_exporter": "python",
   "pygments_lexer": "ipython3",
   "version": "3.11.5"
  }
 },
 "nbformat": 4,
 "nbformat_minor": 5
}
