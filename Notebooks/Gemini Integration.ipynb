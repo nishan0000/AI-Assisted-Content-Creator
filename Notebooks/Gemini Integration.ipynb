{
 "cells": [
  {
   "cell_type": "code",
   "execution_count": 9,
   "id": "f7caf03a",
   "metadata": {},
   "outputs": [],
   "source": [
    "import requests\n",
    "import json\n",
    "import re\n",
    "import urllib.parse\n",
    "import os"
   ]
  },
  {
   "cell_type": "code",
   "execution_count": 10,
   "id": "ad4947dc",
   "metadata": {},
   "outputs": [],
   "source": [
    "# Define the path to your JSON file here. \n",
    "# For example, if your JSON file is in the same directory as your notebook, just use the file name.\n",
    "json_file_path = r\"C:\\Users\\mnsnn\\Documents\\AI\\AI Assisted Reels Generator\\AI-Assisted-Content-Creator\\twitter-video-dl\\src\\twitter_video_dl\\RequestDetails.json\"\n",
    "\n",
    "\"\"\"\n",
    "Hey, thanks for reading the comments.  I love you.\n",
    "Here's how this works:\n",
    "1. To download a video you need a Bearer Token and a guest token.  The guest token definitely expires and the Bearer Token could, though in practice I don't think it does.\n",
    "2. Use the video id get both of those as if you were an unauthenticated browser.\n",
    "3. Call \"TweetDetails\" graphql endpoint with your tokens.\n",
    "4. TweetDetails response includes a 'variants' key which is a list of video urls and details.  Find the one with the highest bitrate (bigger is better, right?) and then just download that.\n",
    "5. Some videos are small.  They are contained in a single mp4 file.  Other videos are big.  They have an mp4 file that's a \"container\" and then a bunch of m4s files.  Once we know the name of the video file we are looking for we can look up what the m4s files are, download all of them, and then put them all together into one big file.  This currently all happens in memory.  I would guess that a very huge video might cause an out of memory error.  I don't know, I haven't tried it.\n",
    "5. If it's broken, fix it yourself because I'm very slow.  Or, hey, let me know, but I might not reply for months.\n",
    "\"\"\"\n",
    "\n",
    "request_details = json.load(open(json_file_path, 'r'))\n",
    "\n",
    "features, variables = request_details['features'], request_details['variables']"
   ]
  },
  {
   "cell_type": "code",
   "execution_count": 11,
   "id": "d192f19b",
   "metadata": {},
   "outputs": [],
   "source": [
    "def get_tokens(tweet_url):\n",
    "    \"\"\"\n",
    "    Welcome to the world of getting a bearer token and guest id.\n",
    "    1. If you request the twitter url for the tweet you'll get back a blank 'tweet not found' page.  In the browser, subsequent javascript calls will populate this page with data.  The blank page includes a script tag for a 'main.js' file that contains the bearer token.\n",
    "    2. 'main.js' has a random string of numbers and letters in the filename.  We will request the tweet url, use a regex to find our unique main.js file, and then request that main.js file.\n",
    "    3. The main.js file contains a bearer token.  We will extract that token and return it.  We can find the token by looking for a lot of A characters in a row.\n",
    "    4. Now that we have the bearer token, how do we get the guest id?  Easy, we activate the bearer token to get it.\n",
    "    \"\"\"\n",
    "\n",
    "    \n",
    "    headers = {\n",
    "        \"User-Agent\": \"Mozilla/5.0 (Windows NT 10.0; Win64; x64; rv:84.0) Gecko/20100101 Firefox/84.0\",\n",
    "        \"Accept\": \"*/*\",\n",
    "        \"Accept-Language\": \"de,en-US;q=0.7,en;q=0.3\",\n",
    "        \"Accept-Encoding\": \"gzip, deflate, br\",\n",
    "        \"TE\": \"trailers\",\n",
    "    }\n",
    "\n",
    "    html = requests.get(tweet_url, headers=headers)\n",
    "\n",
    "    assert html.status_code == 200, f'Failed to get tweet page.  If you are using the correct Twitter URL this suggests a bug in the script.  Please open a GitHub issue and copy and paste this message.  Status code: {html.status_code}.  Tweet url: {tweet_url}'\n",
    "\n",
    "    mainjs_url = re.findall(r'https://abs.twimg.com/responsive-web/client-web-legacy/main.[^\\.]+.js', html.text)\n",
    "\n",
    "    assert mainjs_url is not None and len(\n",
    "        mainjs_url) > 0, f'Failed to find main.js file.  If you are using the correct Twitter URL this suggests a bug in the script.  Please open a GitHub issue and copy and paste this message.  Tweet url: {tweet_url}'\n",
    "\n",
    "    mainjs_url = mainjs_url[0]\n",
    "\n",
    "    mainjs = requests.get(mainjs_url)\n",
    "\n",
    "    assert mainjs.status_code == 200, f'Failed to get main.js file.  If you are using the correct Twitter URL this suggests a bug in the script.  Please open a GitHub issue and copy and paste this message.  Status code: {mainjs.status_code}.  Tweet url: {tweet_url}'\n",
    "\n",
    "    bearer_token = re.findall(r'AAAAAAAAA[^\"]+', mainjs.text)\n",
    "\n",
    "    assert bearer_token is not None and len(\n",
    "        bearer_token) > 0, f'Failed to find bearer token.  If you are using the correct Twitter URL this suggests a bug in the script.  Please open a GitHub issue and copy and paste this message.  Tweet url: {tweet_url}, main.js url: {mainjs_url}'\n",
    "\n",
    "    bearer_token = bearer_token[0]\n",
    "    \n",
    "    # get the guest token\n",
    "    with requests.Session() as s:\n",
    " \n",
    "        s.headers.update({\n",
    "            \"user-agent\"\t:\t\"Mozilla/5.0 (Windows NT 10.0; Win64; x64; rv:84.0) Gecko/20100101 Firefox/84.0\",\n",
    "            \"accept\"\t:\t\"*/*\",\n",
    "            \"accept-language\"\t:\t\"de,en-US;q=0.7,en;q=0.3\",\n",
    "            \"accept-encoding\"\t:\t\"gzip, deflate, br\",\n",
    "            \"te\"\t:\t\"trailers\",})\n",
    "            \n",
    "        s.headers.update({\"authorization\"\t:\tf\"Bearer {bearer_token}\"})\n",
    "\n",
    "        # activate bearer token and get guest token\n",
    "        guest_token = s.post(\n",
    "            \"https://api.twitter.com/1.1/guest/activate.json\").json()[\"guest_token\"]\n",
    "\n",
    "\n",
    "    assert guest_token is not None, f'Failed to find guest token.  If you are using the correct Twitter URL this suggests a bug in the script.  Please open a GitHub issue and copy and paste this message.  Tweet url: {tweet_url}, main.js url: {mainjs_url}'\n",
    "\n",
    "    return bearer_token, guest_token"
   ]
  },
  {
   "cell_type": "code",
   "execution_count": 12,
   "id": "41cc23b6",
   "metadata": {},
   "outputs": [],
   "source": [
    "def get_tweet_details(tweet_url, guest_token, bearer_token):\n",
    "    tweet_id = re.findall(r'(?<=status/)\\d+', tweet_url)\n",
    "\n",
    "    assert tweet_id is not None and len(\n",
    "        tweet_id) == 1, f'Could not parse tweet id from your url.  Make sure you are using the correct url.  If you are, then file a GitHub issue and copy and paste this message.  Tweet url: {tweet_url}'\n",
    "\n",
    "    tweet_id = tweet_id[0]\n",
    "\n",
    "    # the url needs a url encoded version of variables and features as a query string\n",
    "    url = get_details_url(tweet_id, features, variables)\n",
    "\n",
    "    details = requests.get(url, headers={\n",
    "        'authorization': f'Bearer {bearer_token}',\n",
    "        'x-guest-token': guest_token,\n",
    "    })\n",
    "\n",
    "    max_retries = 10\n",
    "    cur_retry = 0\n",
    "    while details.status_code == 400 and cur_retry < max_retries:\n",
    "        try:\n",
    "            error_json = json.loads(details.text)\n",
    "        except:\n",
    "            assert False, f'Failed to parse json from details error. details text: {details.text}  If you are using the correct Twitter URL this suggests a bug in the script.  Please open a GitHub issue and copy and paste this message.  Status code: {details.status_code}.  Tweet url: {tweet_url}'\n",
    "\n",
    "        assert \"errors\" in error_json, f'Failed to find errors in details error json.  If you are using the correct Twitter URL this suggests a bug in the script.  Please open a GitHub issue and copy and paste this message.  Status code: {details.status_code}.  Tweet url: {tweet_url}'\n",
    "\n",
    "        needed_variable_pattern = re.compile(r\"Variable '([^']+)'\")\n",
    "        needed_features_pattern = re.compile(r'The following features cannot be null: ([^\"]+)')\n",
    "\n",
    "        for error in error_json[\"errors\"]:\n",
    "            needed_vars = needed_variable_pattern.findall(error[\"message\"])\n",
    "            for needed_var in needed_vars:\n",
    "                variables[needed_var] = True\n",
    "\n",
    "            needed_features = needed_features_pattern.findall(error[\"message\"])\n",
    "            for nf in needed_features:\n",
    "                for feature in nf.split(','):\n",
    "                    features[feature.strip()] = True\n",
    "\n",
    "        url = get_details_url(tweet_id, features, variables)\n",
    "\n",
    "        details = requests.get(url, headers={\n",
    "            'authorization': f'Bearer {bearer_token}',\n",
    "            'x-guest-token': guest_token,\n",
    "        })\n",
    "\n",
    "        cur_retry += 1\n",
    "\n",
    "        if details.status_code == 200:\n",
    "            # save new variables\n",
    "            request_details['variables'] = variables\n",
    "            request_details['features'] = features\n",
    "\n",
    "            with open(request_details_file, 'w') as f:\n",
    "                json.dump(request_details, f, indent=4)\n",
    "\n",
    "    assert details.status_code == 200, f'Failed to get tweet details.  If you are using the correct Twitter URL this suggests a bug in the script.  Please open a GitHub issue and copy and paste this message.  Status code: {details.status_code}.  Tweet url: {tweet_url}'\n",
    "\n",
    "    return details"
   ]
  },
  {
   "cell_type": "code",
   "execution_count": 13,
   "id": "ae5ea517",
   "metadata": {},
   "outputs": [],
   "source": [
    "def get_details_url(tweet_id, features, variables):\n",
    "    # create a copy of variables - we don't want to modify the original\n",
    "    variables = {**variables}\n",
    "    variables[\"tweetId\"] = tweet_id\n",
    "\n",
    "    return f\"https://twitter.com/i/api/graphql/0hWvDhmW8YQ-S_ib3azIrw/TweetResultByRestId?variables={urllib.parse.quote(json.dumps(variables))}&features={urllib.parse.quote(json.dumps(features))}\"\n"
   ]
  },
  {
   "cell_type": "code",
   "execution_count": 34,
   "id": "63292fb4",
   "metadata": {},
   "outputs": [],
   "source": [
    "def get_description_details(tweet_url, guest_token, bearer_token):\n",
    "    \n",
    "    tweet_details = get_tweet_details(tweet_url, guest_token, bearer_token)\n",
    "    tweet_json = tweet_details.json()\n",
    "    tweet_description = tweet_json['data']['tweetResult']['result']['legacy']['full_text']\n",
    "    des = '.'.join(tweet_description.replace(' \\n\\n', '').split('.\\n\\n')[:-1]).replace('.', '. ')\n",
    "    \n",
    "    # Collecting the profile name for credits\n",
    "    profile_name = tweet_json['data']['tweetResult']['result']['core']['user_results']['result']['legacy']['screen_name']\n",
    "    \n",
    "    return profile_name, des"
   ]
  },
  {
   "cell_type": "code",
   "execution_count": 35,
   "id": "2df2579a",
   "metadata": {},
   "outputs": [],
   "source": [
    "def get_description(tweet_url):\n",
    "    \n",
    "    bearer_token, guest_token = get_tokens(tweet_url)\n",
    "    \n",
    "    description = get_description_details(tweet_url, guest_token, bearer_token)\n",
    "    \n",
    "    return description"
   ]
  },
  {
   "cell_type": "code",
   "execution_count": 36,
   "id": "00ca2aa6",
   "metadata": {},
   "outputs": [],
   "source": [
    "tweet_url = 'https://x.com/LinusEkenstam/status/1756960193177362720?s=20'\n",
    "\n",
    "credits, description = get_description(tweet_url)"
   ]
  },
  {
   "cell_type": "code",
   "execution_count": 37,
   "id": "5e0a8b33",
   "metadata": {},
   "outputs": [
    {
     "data": {
      "text/plain": [
       "'LinusEkenstam'"
      ]
     },
     "execution_count": 37,
     "metadata": {},
     "output_type": "execute_result"
    }
   ],
   "source": [
    "credits"
   ]
  },
  {
   "cell_type": "code",
   "execution_count": 38,
   "id": "2eb34a5a",
   "metadata": {},
   "outputs": [
    {
     "data": {
      "text/plain": [
       "'Actual spatial computing. This is what I had hoped we would have at the launch of Apple Vision Pro. Proper spatial experiences but instead we got 2D windows in 3D space. More of this'"
      ]
     },
     "execution_count": 38,
     "metadata": {},
     "output_type": "execute_result"
    }
   ],
   "source": [
    "description"
   ]
  },
  {
   "cell_type": "code",
   "execution_count": null,
   "id": "a77d2dfa",
   "metadata": {},
   "outputs": [],
   "source": []
  }
 ],
 "metadata": {
  "kernelspec": {
   "display_name": "Python 3 (ipykernel)",
   "language": "python",
   "name": "python3"
  },
  "language_info": {
   "codemirror_mode": {
    "name": "ipython",
    "version": 3
   },
   "file_extension": ".py",
   "mimetype": "text/x-python",
   "name": "python",
   "nbconvert_exporter": "python",
   "pygments_lexer": "ipython3",
   "version": "3.11.5"
  }
 },
 "nbformat": 4,
 "nbformat_minor": 5
}
