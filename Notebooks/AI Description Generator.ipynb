{
 "cells": [
  {
   "cell_type": "code",
   "execution_count": 155,
   "id": "e3761c14",
   "metadata": {},
   "outputs": [],
   "source": [
    "import sys\n",
    "sys.path.append('../PyFiles/')\n",
    "import DescriptionCollect\n",
    "import google.generativeai as genai\n",
    "from dotenv import load_dotenv\n",
    "import os\n",
    "from langchain_google_genai import GoogleGenerativeAI\n",
    "from langchain.prompts import ChatPromptTemplate"
   ]
  },
  {
   "cell_type": "code",
   "execution_count": 156,
   "id": "b77d8d1c",
   "metadata": {},
   "outputs": [],
   "source": [
    "def create_llm():\n",
    "    load_dotenv()\n",
    "    genai.configure(api_key = os.getenv('GOOGLE_API_KEY'))\n",
    "    llm = GoogleGenerativeAI(model='gemini-pro', temperature=0, convert_system_message_to_human=True)\n",
    "    \n",
    "    return llm"
   ]
  },
  {
   "cell_type": "code",
   "execution_count": 167,
   "id": "bc9999b9",
   "metadata": {},
   "outputs": [],
   "source": [
    "def collect_description_for_ai(tweet_url):\n",
    "    description = DescriptionCollect.get_description(tweet_url)\n",
    "    return description"
   ]
  },
  {
   "cell_type": "code",
   "execution_count": 183,
   "id": "5061b59c",
   "metadata": {},
   "outputs": [],
   "source": [
    "def return_hookline(description):\n",
    "    llm = create_llm()\n",
    "    \n",
    "    \n",
    "    prompt_string = \"Given the following text enclosed by triple backticks, please remove any special characters or emojis, and then \\\n",
    "                        provide a concise summary, in 25 words or less, that captures the main idea of the text: \\\n",
    "                        ```{text}```. Please provide the cleaned text summarized in a short, concise and hooking manner. \\\n",
    "                        It should be easy to understand for non-ai domain people too. return it as string. not a markdown \\\n",
    "                    \"\n",
    "    prompt_template = ChatPromptTemplate.from_template(template=prompt_string)\n",
    "    \n",
    "    prompt = prompt_template.format_messages(text=description[1])\n",
    "    \n",
    "    hookline = llm.invoke(prompt)\n",
    "    \n",
    "    return hookline"
   ]
  },
  {
   "cell_type": "code",
   "execution_count": 188,
   "id": "8c728bd5",
   "metadata": {},
   "outputs": [],
   "source": [
    "def return_caption(description):\n",
    "    llm = create_llm()\n",
    "    \n",
    "    cap_prompt_string = \"\"\"\n",
    "        Act as an article writing expert that has expertise in writing using simple words and user friendly words, \n",
    "        so write me a good 2 long sentenced article after doing your own research about the topic and from the \n",
    "        relevant sources gather the best information about it and include that as well that is for this topic\n",
    "\n",
    "\n",
    "            The topic of the post is : {text}\n",
    "\n",
    "\n",
    "        write the article in a descriptive way but in a neutral tone such that a normal guy is talking about it in \n",
    "        two or three good sentences, make sure it is having atleast 35 words in it , Make sure that the paragraph is \n",
    "        in good and simple words and also have a neutral tone and try to add a question for people to engage in the \n",
    "        comments if possible, also include 5 simple hashtags at the very end for instagram relevant to the topic and \n",
    "        single word hashtags, and write this before the hashtags as well.\n",
    "\n",
    "\n",
    "        I want the whole output in this format, only take the format from this below example\n",
    "\n",
    "\n",
    "        example : [\n",
    "            The future is here  Apple’s Vision Pro has finally gone on sale, allowing the first customers to \n",
    "            get their hands on the $3,500 computer.\n",
    "\n",
    "            The augmented reality headset – called a “spatial computer” by Apple – was \n",
    "            launched last year. \n",
    "\n",
    "            The company suggested that it marks not only a major new product category for \n",
    "            Apple but a whole new form of computing.\n",
    "\n",
    "            Credits to haig98/X & @sanjosefoos\n",
    "\n",
    "            Follow @bardotics for more AI related updates!\n",
    "        ]\n",
    "\n",
    "        After creating the text, make sure this is included in the end of your output. There will not be any improvisation in this.\n",
    "        The text below should be fixed. and even the order of it.\n",
    "\n",
    "\n",
    "\n",
    "        (First place this) : Credits to @{username}\n",
    "\n",
    "        (Second place this) : Follow @bardotics for more such content!\n",
    "\n",
    "        (Third place this) : #hashtag1 #hashtag2 #hashtag3 #hashtag4 #hashtag5 \n",
    "\n",
    "\n",
    "\n",
    "        You have to make sure about these things :\n",
    "\n",
    "        1. you leave the SPACES RIGHT between all the sentences and after the sentences as well, leave a line or two after \n",
    "        the sentences to match the formatting in the example\n",
    "        2. dont add emojis, \n",
    "        3. leave the space blank where the username has to be given by me, \n",
    "        4. also make sure there are 35 or more words in the paragraph\n",
    "        5. make sure you add good latest and relevant information about it and provide the reader with a valuable time \n",
    "        that is used for reading this article\n",
    "        6. If necessary you can add an extra paragraph too, depending on the depth of the topic\n",
    "        7. Dont add unnecessary intro texts to begin, start directly talking about the topic\n",
    "        8. Make sure the formatting is right and the 'Follow @bardotics' line is included at all times\n",
    "        \"\"\"\n",
    "\n",
    "    cap_prompt_template = ChatPromptTemplate.from_template(template=cap_prompt_string)\n",
    "\n",
    "    cap_prompt = cap_prompt_template.format_messages(text=description[1], username=description[0])\n",
    "    \n",
    "    caption = llm.invoke(cap_prompt)\n",
    "    \n",
    "    return caption"
   ]
  },
  {
   "cell_type": "code",
   "execution_count": 189,
   "id": "64ca0fa0",
   "metadata": {},
   "outputs": [],
   "source": [
    "def generate_text_using_ai(tweet_url):\n",
    "    description = collect_description_for_ai(tweet_url)\n",
    "    hookline = return_hookline(description)\n",
    "    caption = return_caption(description)\n",
    "    return hookline, caption"
   ]
  },
  {
   "cell_type": "code",
   "execution_count": 190,
   "id": "db59681e",
   "metadata": {},
   "outputs": [],
   "source": [
    "tweet_url = 'https://x.com/dreamingtulpa/status/1757750809914142867?s=20'"
   ]
  },
  {
   "cell_type": "code",
   "execution_count": 191,
   "id": "823eccb6",
   "metadata": {},
   "outputs": [],
   "source": [
    "hookline, caption = generate_text_using_ai(tweet_url)"
   ]
  },
  {
   "cell_type": "code",
   "execution_count": 192,
   "id": "fe26e3d8",
   "metadata": {},
   "outputs": [],
   "source": [
    "from IPython.display import Markdown"
   ]
  },
  {
   "cell_type": "code",
   "execution_count": 193,
   "id": "2441795d",
   "metadata": {},
   "outputs": [
    {
     "data": {
      "text/markdown": [
       "Stability AI's unreleased text-to-speech model generates high-quality speech with various accents and conditions."
      ],
      "text/plain": [
       "<IPython.core.display.Markdown object>"
      ]
     },
     "metadata": {},
     "output_type": "display_data"
    }
   ],
   "source": [
    "display(Markdown(hookline))"
   ]
  },
  {
   "cell_type": "code",
   "execution_count": 194,
   "id": "a077c282",
   "metadata": {},
   "outputs": [
    {
     "data": {
      "text/markdown": [
       "Stability AI is researching text-to-speech with text prompt control! Their unreleased model is able to generate high-fidelity speech with a diverse range of accents, prosodic styles, channel conditions, and acoustic conditions.\n",
       "\n",
       "What do you think of this new development?\n",
       "\n",
       "Credits to @dreamingtulpa\n",
       "\n",
       "Follow @bardotics for more such content!\n",
       "\n",
       "#StabilityAI #TextToSpeech #AI #MachineLearning #NaturalLanguageProcessing"
      ],
      "text/plain": [
       "<IPython.core.display.Markdown object>"
      ]
     },
     "metadata": {},
     "output_type": "display_data"
    }
   ],
   "source": [
    "display(Markdown(caption))"
   ]
  },
  {
   "cell_type": "code",
   "execution_count": null,
   "id": "1370b10c",
   "metadata": {},
   "outputs": [],
   "source": []
  }
 ],
 "metadata": {
  "kernelspec": {
   "display_name": "Python 3 (ipykernel)",
   "language": "python",
   "name": "python3"
  },
  "language_info": {
   "codemirror_mode": {
    "name": "ipython",
    "version": 3
   },
   "file_extension": ".py",
   "mimetype": "text/x-python",
   "name": "python",
   "nbconvert_exporter": "python",
   "pygments_lexer": "ipython3",
   "version": "3.11.5"
  }
 },
 "nbformat": 4,
 "nbformat_minor": 5
}
