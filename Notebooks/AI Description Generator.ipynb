{
 "cells": [
  {
   "cell_type": "code",
   "execution_count": 84,
   "id": "e3761c14",
   "metadata": {},
   "outputs": [],
   "source": [
    "import sys\n",
    "sys.path.append('../PyFiles/')\n",
    "import DescriptionCollect\n",
    "import google.generativeai as genai\n",
    "from dotenv import load_dotenv\n",
    "import os\n",
    "from langchain_google_genai import GoogleGenerativeAI\n",
    "from langchain.prompts import ChatPromptTemplate"
   ]
  },
  {
   "cell_type": "code",
   "execution_count": 85,
   "id": "b77d8d1c",
   "metadata": {},
   "outputs": [],
   "source": [
    "def create_llm():\n",
    "    load_dotenv()\n",
    "    genai.configure(api_key = os.getenv('GOOGLE_API_KEY'))\n",
    "    llm = GoogleGenerativeAI(model='gemini-pro', temperature=True, convert_system_message_to_human=True)\n",
    "    \n",
    "    return llm"
   ]
  },
  {
   "cell_type": "code",
   "execution_count": 87,
   "id": "5061b59c",
   "metadata": {},
   "outputs": [],
   "source": [
    "def return_hookline(tweet_url):\n",
    "    llm = create_llm()\n",
    "    description = DescriptionCollect.get_description(tweet_url)\n",
    "    \n",
    "    prompt_string = \"Given the following text enclosed by triple backticks, please remove any special characters or emojis, and then \\\n",
    "                        provide a concise summary, in 25 words or less, that captures the main idea of the text: \\\n",
    "                        ```{text}```. Please provide the cleaned text summarized in a short, concise and hooking manner. \\\n",
    "                        It should be easy to understand for non-ai domain people too \\\n",
    "                    \"\n",
    "\n",
    "\n",
    "    prompt_template = ChatPromptTemplate.from_template(template=prompt_string)\n",
    "    \n",
    "    prompt = prompt_template.format_messages(text=description)\n",
    "    \n",
    "    hookline = llm.invoke(prompt)\n",
    "    \n",
    "    return hookline"
   ]
  },
  {
   "cell_type": "code",
   "execution_count": 88,
   "id": "db59681e",
   "metadata": {},
   "outputs": [],
   "source": [
    "tweet_url = 'https://x.com/bilawalsidhu/status/1757142965686845607?s=20'"
   ]
  },
  {
   "cell_type": "code",
   "execution_count": 89,
   "id": "e333bf64",
   "metadata": {},
   "outputs": [],
   "source": [
    "hookline = return_hookline(tweet_url)"
   ]
  },
  {
   "cell_type": "code",
   "execution_count": null,
   "id": "8215063f",
   "metadata": {},
   "outputs": [],
   "source": []
  },
  {
   "cell_type": "code",
   "execution_count": 79,
   "id": "2a57bac0",
   "metadata": {},
   "outputs": [],
   "source": []
  },
  {
   "cell_type": "code",
   "execution_count": 80,
   "id": "774e068a",
   "metadata": {},
   "outputs": [],
   "source": []
  },
  {
   "cell_type": "code",
   "execution_count": 81,
   "id": "5fb6a7a2",
   "metadata": {},
   "outputs": [],
   "source": []
  },
  {
   "cell_type": "code",
   "execution_count": 82,
   "id": "cb92bbc8",
   "metadata": {},
   "outputs": [
    {
     "data": {
      "text/plain": [
       "'3D capture and generative AI technologies enable real-time creation of trippy and creepy hallucinations.'"
      ]
     },
     "execution_count": 82,
     "metadata": {},
     "output_type": "execute_result"
    }
   ],
   "source": []
  },
  {
   "cell_type": "code",
   "execution_count": null,
   "id": "2441795d",
   "metadata": {},
   "outputs": [],
   "source": []
  }
 ],
 "metadata": {
  "kernelspec": {
   "display_name": "Python 3 (ipykernel)",
   "language": "python",
   "name": "python3"
  },
  "language_info": {
   "codemirror_mode": {
    "name": "ipython",
    "version": 3
   },
   "file_extension": ".py",
   "mimetype": "text/x-python",
   "name": "python",
   "nbconvert_exporter": "python",
   "pygments_lexer": "ipython3",
   "version": "3.11.5"
  }
 },
 "nbformat": 4,
 "nbformat_minor": 5
}
